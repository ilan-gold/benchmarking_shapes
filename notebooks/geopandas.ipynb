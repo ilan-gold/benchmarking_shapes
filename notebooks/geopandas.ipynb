{
 "cells": [
  {
   "cell_type": "code",
   "execution_count": null,
   "id": "a9dac6e9",
   "metadata": {},
   "outputs": [],
   "source": [
    "# /// script\n",
    "# requires-python = \">=3.12\"\n",
    "# dependencies = [\n",
    "#     \"geodatasets\",\n",
    "#     \"geopandas[all]\",\n",
    "#     \"microjson\",\n",
    "#     \"zarr\",\n",
    "#     \"shapely\",\n",
    "# ]\n",
    "# ///"
   ]
  },
  {
   "cell_type": "code",
   "execution_count": 62,
   "id": "71a644c0",
   "metadata": {},
   "outputs": [],
   "source": [
    "import json\n",
    "\n",
    "import geodatasets\n",
    "import geopandas as gpd\n",
    "import shapely"
   ]
  },
  {
   "cell_type": "markdown",
   "id": "cbdf9195-69bc-4c23-b95e-92f656e13426",
   "metadata": {},
   "source": [
    "# Intro to shape formats\n",
    "\n",
    "\n",
    "## In-Memory Representation: geopandas\n",
    "\n",
    "Let's start by looking at how the in-memory shapes are stored by lookinga at a sample dataset. We see that we have a collection of different geometries along with a custom in-memory pandas data type, `geometry`"
   ]
  },
  {
   "cell_type": "code",
   "execution_count": 32,
   "id": "9c9db561",
   "metadata": {},
   "outputs": [],
   "source": [
    "colombia = gpd.read_file(geodatasets.get_path(\"geoda.malaria\"))"
   ]
  },
  {
   "cell_type": "code",
   "execution_count": 41,
   "id": "3686d4b0-72c6-4482-98c5-a5418bdae1ed",
   "metadata": {},
   "outputs": [
    {
     "data": {
      "text/plain": [
       "0       POLYGON ((-71.32639 11.84789, -71.33579 11.855...\n",
       "1       POLYGON ((-72.42191 11.79824, -72.4198 11.795,...\n",
       "2       POLYGON ((-72.1891 11.5242, -72.1833 11.5323, ...\n",
       "3       POLYGON ((-72.638 11.3679, -72.6259 11.3499, -...\n",
       "4       POLYGON ((-74.77489 10.93158, -74.7753 10.9338...\n",
       "                              ...                        \n",
       "1063    POLYGON ((-77.1137 0.417, -77.0659 0.4878, -77...\n",
       "1064    MULTIPOLYGON (((-75.33747 10.69339, -75.3129 1...\n",
       "1065    MULTIPOLYGON (((-78.2675 12.0632, -78.2594 12....\n",
       "1066    MULTIPOLYGON (((-75.93092 9.42257, -75.93809 9...\n",
       "1067    MULTIPOLYGON (((-77.2433 12.3945, -77.2439 12....\n",
       "Name: geometry, Length: 1068, dtype: geometry"
      ]
     },
     "execution_count": 41,
     "metadata": {},
     "output_type": "execute_result"
    }
   ],
   "source": [
    "colombia[\"geometry\"]"
   ]
  },
  {
   "cell_type": "markdown",
   "id": "cacc7c85-0363-46d5-a2a3-df51b8442122",
   "metadata": {},
   "source": [
    "`shapely` offers a way to see the \"true memory layout\" i.e., from the [`shapely` docs](https://shapely.readthedocs.io/en/latest/reference/shapely.to_ragged_array.html):\n",
    "\n",
    "\"This follows the in-memory layout of the variable size list arrays defined by Apache Arrow, as specified for geometries by the GeoArrow project: https://github.com/geoarrow/geoarrow\""
   ]
  },
  {
   "cell_type": "code",
   "execution_count": 37,
   "id": "ac5e0cd8-c805-4483-aa3a-3c76b4784fb5",
   "metadata": {},
   "outputs": [
    {
     "data": {
      "text/plain": [
       "(<GeometryType.MULTIPOLYGON: 6>,\n",
       " array([[-71.3263855 ,  11.84788799],\n",
       "        [-71.33579254,  11.8552742 ],\n",
       "        [-71.34572601,  11.8481369 ],\n",
       "        ...,\n",
       "        [-77.20980072,  12.28409958],\n",
       "        [-77.20120239,  12.28569984],\n",
       "        [-77.19080353,  12.2840004 ]], shape=(87955, 2)),\n",
       " (array([    0,   303,   401, ..., 87790, 87842, 87955], shape=(1119,)),\n",
       "  array([   0,    1,    2, ..., 1116, 1117, 1118], shape=(1119,)),\n",
       "  array([   0,    1,    2, ..., 1114, 1116, 1118], shape=(1069,))))"
      ]
     },
     "execution_count": 37,
     "metadata": {},
     "output_type": "execute_result"
    }
   ],
   "source": [
    "shapely.to_ragged_array(colombia[\"geometry\"])"
   ]
  },
  {
   "cell_type": "markdown",
   "id": "a280e1f8-bd21-4777-8f2b-4ee477a4433c",
   "metadata": {},
   "source": [
    "First we have the geometry type, which is `MULTIPOLYGON` because our underlying types are mixed (both `POLYGON` and `MULTIPOLYGON`)."
   ]
  },
  {
   "cell_type": "code",
   "execution_count": 42,
   "id": "12b9de7e-e64f-4a62-b340-607dc4780e85",
   "metadata": {},
   "outputs": [
    {
     "data": {
      "text/plain": [
       "<GeometryType.MULTIPOLYGON: 6>"
      ]
     },
     "execution_count": 42,
     "metadata": {},
     "output_type": "execute_result"
    }
   ],
   "source": [
    "shapely.to_ragged_array(colombia[\"geometry\"])[0]"
   ]
  },
  {
   "cell_type": "markdown",
   "id": "6b315fe6-6d12-4d75-8b3d-4a66365295dd",
   "metadata": {},
   "source": [
    "Next we have the underlying data, made up of xy coordinates"
   ]
  },
  {
   "cell_type": "code",
   "execution_count": 39,
   "id": "1cba0898",
   "metadata": {},
   "outputs": [
    {
     "data": {
      "text/plain": [
       "array([[-71.3263855 ,  11.84788799],\n",
       "       [-71.33579254,  11.8552742 ],\n",
       "       [-71.34572601,  11.8481369 ],\n",
       "       ...,\n",
       "       [-77.20980072,  12.28409958],\n",
       "       [-77.20120239,  12.28569984],\n",
       "       [-77.19080353,  12.2840004 ]], shape=(87955, 2))"
      ]
     },
     "execution_count": 39,
     "metadata": {},
     "output_type": "execute_result"
    }
   ],
   "source": [
    "shapely.to_ragged_array(colombia[\"geometry\"])[1]"
   ]
  },
  {
   "cell_type": "markdown",
   "id": "eb89ec1c-5b19-4450-a66e-5aa8b8c82334",
   "metadata": {},
   "source": [
    "Lastly, the offsets - the first array has the offsets of each geometry's data, the last two contiain inner and outer rings if applicable."
   ]
  },
  {
   "cell_type": "code",
   "execution_count": 40,
   "id": "2d6a0f03-9b59-433e-b444-a71f80faabae",
   "metadata": {},
   "outputs": [
    {
     "data": {
      "text/plain": [
       "(array([    0,   303,   401, ..., 87790, 87842, 87955], shape=(1119,)),\n",
       " array([   0,    1,    2, ..., 1116, 1117, 1118], shape=(1119,)),\n",
       " array([   0,    1,    2, ..., 1114, 1116, 1118], shape=(1069,)))"
      ]
     },
     "execution_count": 40,
     "metadata": {},
     "output_type": "execute_result"
    }
   ],
   "source": [
    "shapely.to_ragged_array(colombia[\"geometry\"])[2]"
   ]
  },
  {
   "cell_type": "markdown",
   "id": "9b1b654e-4c64-40df-9e0e-fe77fce719fd",
   "metadata": {},
   "source": [
    "## Working with geojson and geopandas\n",
    "\n",
    "Here is a short code snippet showing how to roundtrip the data properly. The `get_parts` call is not necessary but roundtrips the data back to the representation you see instead of a likely-less-helpful `GEOMETRYCOLLECTION` (see https://shapely.readthedocs.io/en/latest/reference/shapely.from_geojson.html#shapely.from_geojson)"
   ]
  },
  {
   "cell_type": "code",
   "execution_count": 79,
   "id": "78aaa405-b6c3-4183-966d-f56ff6ed8213",
   "metadata": {},
   "outputs": [
    {
     "data": {
      "text/plain": [
       "array([<POLYGON ((-71.326 11.848, -71.336 11.855, -71.346 11.848, -71.353 11.847, -...>,\n",
       "       <POLYGON ((-72.422 11.798, -72.42 11.795, -72.407 11.774, -72.386 11.745, -7...>,\n",
       "       <POLYGON ((-72.189 11.524, -72.183 11.532, -72.17 11.549, -72.165 11.565, -7...>,\n",
       "       ...,\n",
       "       <MULTIPOLYGON (((-78.268 12.063, -78.259 12.046, -78.259 12.041, -78.257 12....>,\n",
       "       <MULTIPOLYGON (((-75.931 9.423, -75.938 9.429, -75.938 9.431, -75.935 9.433,...>,\n",
       "       <MULTIPOLYGON (((-77.243 12.394, -77.244 12.384, -77.25 12.37, -77.259 12.36...>],\n",
       "      shape=(1068,), dtype=object)"
      ]
     },
     "execution_count": 79,
     "metadata": {},
     "output_type": "execute_result"
    }
   ],
   "source": [
    "shapely.get_parts(\n",
    "    shapely.from_geojson(\n",
    "        json.dumps(\n",
    "            {\n",
    "                \"type\": \"FeatureCollection\",\n",
    "                \"features\": colombia[\"geometry\"]\n",
    "                .map(\n",
    "                    lambda x: {\n",
    "                        \"type\": \"Feature\",\n",
    "                        \"geometry\": json.loads(shapely.to_geojson(x)),\n",
    "                        \"properties\": None,\n",
    "                    }\n",
    "                )\n",
    "                .to_list(),\n",
    "            }\n",
    "        )\n",
    "    )\n",
    ")"
   ]
  },
  {
   "cell_type": "markdown",
   "id": "2339d6bc-1c94-4317-a6e2-199beaa88e23",
   "metadata": {},
   "source": [
    "## Working with {Micro,Tile}JSON\n",
    "\n",
    "For a more detailed intro see https://polusai.github.io/microjson/tiling_demo/ - this is mostly copy-and-paste from there.  For now we're ignoring most of the features around transformations and such.\n",
    "\n",
    "There is also information in that notebook on how to generate more data."
   ]
  },
  {
   "cell_type": "code",
   "execution_count": 97,
   "id": "64db3ce7-90f0-4d46-81f1-b55b071c3420",
   "metadata": {},
   "outputs": [],
   "source": [
    "import json\n",
    "import os\n",
    "from pathlib import Path\n",
    "\n",
    "from microjson.tilemodel import TileJSON, TileLayer, TileModel\n",
    "from microjson.tilewriter import TileWriter, extract_fields_ranges_enums, getbounds"
   ]
  },
  {
   "cell_type": "code",
   "execution_count": 104,
   "id": "bae78f63-8aad-4a4f-ab40-24d84541de23",
   "metadata": {},
   "outputs": [],
   "source": [
    "microjson_data_path = \"test.json\"\n",
    "with open(microjson_data_path, \"w\") as f:\n",
    "    f.write(\n",
    "        json.dumps(\n",
    "            {\n",
    "                \"type\": \"FeatureCollection\",\n",
    "                \"features\": colombia[\"geometry\"]\n",
    "                .map(\n",
    "                    lambda x: {\n",
    "                        \"type\": \"Feature\",\n",
    "                        \"geometry\": json.loads(shapely.to_geojson(x)),\n",
    "                        \"properties\": {},  # non-null\n",
    "                    }\n",
    "                )\n",
    "                .to_list(),\n",
    "            }\n",
    "        )\n",
    "    )"
   ]
  },
  {
   "cell_type": "code",
   "execution_count": 105,
   "id": "36af25d9-c799-40fd-b012-210720d1cd8d",
   "metadata": {},
   "outputs": [
    {
     "name": "stdout",
     "output_type": "stream",
     "text": [
      "Extracted field names:\n",
      "{}\n",
      "\n",
      "Extracted field ranges:\n",
      "{}\n",
      "\n",
      "Extracted field enums:\n",
      "{}\n"
     ]
    }
   ],
   "source": [
    "# Extract fields, ranges, and enums from the MicroJSON data\n",
    "field_names, field_ranges, field_enums = extract_fields_ranges_enums(\n",
    "    microjson_data_path\n",
    ")\n",
    "\n",
    "print(\"Extracted field names:\")\n",
    "print(field_names)\n",
    "\n",
    "print(\"\\nExtracted field ranges:\")\n",
    "print(field_ranges)\n",
    "\n",
    "print(\"\\nExtracted field enums:\")\n",
    "print(field_enums)"
   ]
  },
  {
   "cell_type": "code",
   "execution_count": 106,
   "id": "7fa76ba2-2986-4f72-9104-49710d911fc0",
   "metadata": {},
   "outputs": [
    {
     "name": "stdout",
     "output_type": "stream",
     "text": [
      "Vector layer defined with the following properties:\n",
      "ID: polygon-layer\n",
      "Fields: {}\n",
      "Zoom range: 0 - 10\n"
     ]
    }
   ],
   "source": [
    "vector_layers = [\n",
    "    TileLayer(\n",
    "        id=\"polygon-layer\",\n",
    "        fields=field_names,\n",
    "        minzoom=0,\n",
    "        maxzoom=10,\n",
    "        description=\"Layer containing polygon data\",\n",
    "        fieldranges=field_ranges,\n",
    "        fieldenums=field_enums,\n",
    "    )\n",
    "]\n",
    "\n",
    "print(\"Vector layer defined with the following properties:\")\n",
    "print(f\"ID: {vector_layers[0].id}\")\n",
    "print(f\"Fields: {vector_layers[0].fields}\")\n",
    "print(f\"Zoom range: {vector_layers[0].minzoom} - {vector_layers[0].maxzoom}\")"
   ]
  },
  {
   "cell_type": "code",
   "execution_count": 107,
   "id": "5600705f-d61a-4921-aed1-7e69902db0c7",
   "metadata": {},
   "outputs": [
    {
     "name": "stdout",
     "output_type": "stream",
     "text": [
      "Bounds: [-79.04722595214844, -4.2304840087890625, -62.35343360900879, 12.463308334350586]\n",
      "Center: [0, -70.70032978057861, 4.116412162780762]\n"
     ]
    }
   ],
   "source": [
    "# Get bounds of the data (square=True ensures the bounds form a square)\n",
    "maxbounds = getbounds(microjson_data_path, square=True)\n",
    "print(f\"Bounds: {maxbounds}\")\n",
    "\n",
    "# Calculate the center of the bounds\n",
    "center = [0, (maxbounds[0] + maxbounds[2]) / 2, (maxbounds[1] + maxbounds[3]) / 2]\n",
    "print(f\"Center: {center}\")"
   ]
  },
  {
   "cell_type": "code",
   "execution_count": 108,
   "id": "6bd3fe00-367b-42d7-90f8-f8a220cf0ccc",
   "metadata": {},
   "outputs": [
    {
     "name": "stdout",
     "output_type": "stream",
     "text": [
      "TileJSON specification:\n",
      "{\n",
      "  \"tilejson\": \"3.0.0\",\n",
      "  \"tiles\": [\n",
      "    \"tiles/{z}/{x}/{y}.json\"\n",
      "  ],\n",
      "  \"name\": \"Example Tile Layer\",\n",
      "  \"description\": \"A TileJSON example incorporating MicroJSON data\",\n",
      "  \"version\": \"1.0.0\",\n",
      "  \"attribution\": \"Polus AI\",\n",
      "  \"template\": null,\n",
      "  \"legend\": null,\n",
      "  \"scheme\": null,\n",
      "  \"grids\": null,\n",
      "  \"data\": null,\n",
      "  \"minzoom\": 0,\n",
      "  \"maxzoom\": 7,\n",
      "  \"bounds\": [\n",
      "    -79.04722595214844,\n",
      "    -4.2304840087890625,\n",
      "    -62.35343360900879,\n",
      "    12.463308334350586\n",
      "  ],\n",
      "  \"center\": [\n",
      "    0.0,\n",
      "    -70.70032978057861,\n",
      "    4.116412162780762\n",
      "  ],\n",
      "  \"fillzoom\": null,\n",
      "  \"vector_layers\": [\n",
      "    {\n",
      "      \"id\": \"polygon-layer\",\n",
      "      \"fields\": {},\n",
      "      \"minzoom\": 0,\n",
      "      \"maxzoom\": 10,\n",
      "      \"description\": \"Layer containing polygon data\",\n",
      "      \"fieldranges\": {},\n",
      "      \"fieldenums\": {},\n",
      "      \"fielddescriptions\": null\n",
      "    }\n",
      "  ],\n",
      "  \"multiscale\": null,\n",
      "  \"scale_factor\": null\n",
      "}\n"
     ]
    }
   ],
   "source": [
    "# Create output directory for tiles\n",
    "os.makedirs(\"tiles\", exist_ok=True)\n",
    "\n",
    "# Instantiate TileModel with our settings\n",
    "tile_model = TileModel(\n",
    "    tilejson=\"3.0.0\",\n",
    "    tiles=[Path(\"tiles/{z}/{x}/{y}.json\")],  # Local path or URL\n",
    "    name=\"Example Tile Layer\",\n",
    "    description=\"A TileJSON example incorporating MicroJSON data\",\n",
    "    version=\"1.0.0\",\n",
    "    attribution=\"Polus AI\",\n",
    "    minzoom=0,\n",
    "    maxzoom=7,\n",
    "    bounds=maxbounds,\n",
    "    center=center,\n",
    "    vector_layers=vector_layers,\n",
    ")\n",
    "\n",
    "# Create the root model with our TileModel instance\n",
    "tileobj = TileJSON(root=tile_model)\n",
    "\n",
    "# Display the TileJSON specification\n",
    "print(\"TileJSON specification:\")\n",
    "print(tileobj.model_dump_json(indent=2))"
   ]
  },
  {
   "cell_type": "code",
   "execution_count": 109,
   "id": "bea8ae59-7e0d-42b7-8e09-f9d143be057c",
   "metadata": {},
   "outputs": [
    {
     "name": "stdout",
     "output_type": "stream",
     "text": [
      "TileJSON metadata exported to tiles/metadata.json\n"
     ]
    }
   ],
   "source": [
    "# Export to tilejson\n",
    "with open(\"tiles/metadata.json\", \"w\") as f:\n",
    "    f.write(tileobj.model_dump_json(indent=2))\n",
    "\n",
    "print(\"TileJSON metadata exported to tiles/metadata.json\")"
   ]
  },
  {
   "cell_type": "code",
   "execution_count": 110,
   "id": "9e305c29-5825-4fda-a060-a1f2e4296e9b",
   "metadata": {},
   "outputs": [
    {
     "name": "stdout",
     "output_type": "stream",
     "text": [
      "Vector tiles generated successfully!\n",
      "Generated tile zoom levels: ['0', '7', '6', '1', '4', '3', '2', '5']\n"
     ]
    }
   ],
   "source": [
    "# Initialize the TileWriter\n",
    "handler = TileWriter(tile_model, pbf=False)\n",
    "\n",
    "# Convert MicroJSON to tiles\n",
    "handler.microjson2tiles(microjson_data_path, validate=False)\n",
    "\n",
    "print(\"Vector tiles generated successfully!\")\n",
    "\n",
    "# List the generated tile directories to verify\n",
    "tile_dirs = [d for d in os.listdir(\"tiles\") if os.path.isdir(os.path.join(\"tiles\", d))]\n",
    "print(f\"Generated tile zoom levels: {tile_dirs}\")"
   ]
  }
 ],
 "metadata": {
  "kernelspec": {
   "display_name": "Python 3 (ipykernel)",
   "language": "python",
   "name": "python3"
  },
  "language_info": {
   "codemirror_mode": {
    "name": "ipython",
    "version": 3
   },
   "file_extension": ".py",
   "mimetype": "text/x-python",
   "name": "python",
   "nbconvert_exporter": "python",
   "pygments_lexer": "ipython3",
   "version": "3.12.3"
  }
 },
 "nbformat": 4,
 "nbformat_minor": 5
}
